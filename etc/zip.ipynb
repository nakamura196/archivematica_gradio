{
 "cells": [
  {
   "cell_type": "code",
   "execution_count": 6,
   "metadata": {},
   "outputs": [],
   "source": [
    "import zipfile\n",
    "import os"
   ]
  },
  {
   "cell_type": "code",
   "execution_count": 7,
   "metadata": {},
   "outputs": [],
   "source": [
    "def zip_folder(folder_path, output_path):\n",
    "    # ZIPファイルを作成します。'w'モードは新規作成、'a'モードは追加を意味します。\n",
    "    with zipfile.ZipFile(output_path, 'w', zipfile.ZIP_DEFLATED) as zipf:\n",
    "        # folder_path以下のすべてのファイルとディレクトリに対してループ処理\n",
    "        for root, dirs, files in os.walk(folder_path):\n",
    "            for file in files:\n",
    "                # ファイルのフルパス\n",
    "                full_path = os.path.join(root, file)\n",
    "                # ファイルをZIPファイルに追加\n",
    "                # arcnameはZIPファイル内の名前とパス。フォルダ構造を保持しつつ、絶対パスは除去します。\n",
    "                zipf.write(full_path, arcname=os.path.relpath(full_path, folder_path))"
   ]
  },
  {
   "cell_type": "code",
   "execution_count": 8,
   "metadata": {},
   "outputs": [],
   "source": [
    "folder_to_zip = \"/Users/nakamura/git/kim/matica_tools_demo/demo/tmp/folder/docx\"\n",
    "\n",
    "zip_output = \"../src/examples/ja.zip\"\n",
    "\n",
    "zip_folder(folder_to_zip, zip_output)"
   ]
  }
 ],
 "metadata": {
  "kernelspec": {
   "display_name": ".venv",
   "language": "python",
   "name": "python3"
  },
  "language_info": {
   "codemirror_mode": {
    "name": "ipython",
    "version": 3
   },
   "file_extension": ".py",
   "mimetype": "text/x-python",
   "name": "python",
   "nbconvert_exporter": "python",
   "pygments_lexer": "ipython3",
   "version": "3.9.11"
  }
 },
 "nbformat": 4,
 "nbformat_minor": 2
}
